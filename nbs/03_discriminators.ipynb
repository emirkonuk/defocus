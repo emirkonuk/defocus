{
 "cells": [
  {
   "cell_type": "code",
   "execution_count": null,
   "metadata": {},
   "outputs": [],
   "source": [
    "# default_exp networks.discriminators"
   ]
  },
  {
   "cell_type": "code",
   "execution_count": null,
   "metadata": {},
   "outputs": [],
   "source": [
    "#export\n",
    "import torch.nn as nn\n",
    "\n",
    "class MSResNetDiscriminator(nn.Module):\n",
    "    def __init__(self, n_feats=64, kernel_size=5):\n",
    "        super(MSResNetDiscriminator, self).__init__()\n",
    "\n",
    "        # self.args = args\n",
    "#         n_feats = args.n_feats\n",
    "#         kernel_size = args.kernel_size\n",
    "\n",
    "        def conv(kernel_size, in_channel, n_feats, stride, pad=None):\n",
    "            if pad is None:\n",
    "                pad = (kernel_size-1)//2\n",
    "\n",
    "            return nn.Conv2d(in_channel, n_feats, kernel_size, stride=stride, padding=pad, bias=False)\n",
    "\n",
    "        self.conv_layers = nn.ModuleList([\n",
    "            conv(kernel_size, 3,         n_feats//2, 1),    # 256\n",
    "            conv(kernel_size, n_feats//2, n_feats//2, 2),   # 128\n",
    "            conv(kernel_size, n_feats//2, n_feats,   1),\n",
    "            conv(kernel_size, n_feats,   n_feats,   2),     # 64\n",
    "            conv(kernel_size, n_feats,   n_feats*2, 1),\n",
    "            conv(kernel_size, n_feats*2, n_feats*2, 4),     # 16\n",
    "            conv(kernel_size, n_feats*2, n_feats*4, 1),\n",
    "            conv(kernel_size, n_feats*4, n_feats*4, 4),     # 4\n",
    "            conv(kernel_size, n_feats*4, n_feats*8, 1),\n",
    "            conv(4,           n_feats*8, n_feats*8, 4, 0),  # 1\n",
    "        ])\n",
    "\n",
    "        self.act = nn.LeakyReLU(negative_slope=0.2, inplace=True)\n",
    "        self.dense = nn.Conv2d(n_feats*8, 1, 1, bias=False)\n",
    "\n",
    "    def forward(self, x):\n",
    "\n",
    "        for layer in self.conv_layers:\n",
    "            x = self.act(layer(x))\n",
    "\n",
    "        x = self.dense(x)\n",
    "\n",
    "        return x\n",
    "\n"
   ]
  },
  {
   "cell_type": "code",
   "execution_count": null,
   "metadata": {},
   "outputs": [],
   "source": []
  },
  {
   "cell_type": "code",
   "execution_count": null,
   "metadata": {},
   "outputs": [],
   "source": []
  },
  {
   "cell_type": "code",
   "execution_count": null,
   "metadata": {},
   "outputs": [],
   "source": []
  },
  {
   "cell_type": "code",
   "execution_count": null,
   "metadata": {},
   "outputs": [
    {
     "name": "stdout",
     "output_type": "stream",
     "text": [
      "Converted 01_model.ipynb.\n",
      "Converted 02_generators.ipynb.\n",
      "Converted 03_discriminators.ipynb.\n",
      "Converted 99_diffaugment.ipynb.\n",
      "Converted Untitled.ipynb.\n"
     ]
    }
   ],
   "source": [
    "from nbdev.export import *\n",
    "notebook2script()"
   ]
  },
  {
   "cell_type": "code",
   "execution_count": null,
   "metadata": {},
   "outputs": [],
   "source": []
  }
 ],
 "metadata": {
  "kernelspec": {
   "display_name": "Python [conda env:defocus] *",
   "language": "python",
   "name": "conda-env-defocus-py"
  }
 },
 "nbformat": 4,
 "nbformat_minor": 4
}

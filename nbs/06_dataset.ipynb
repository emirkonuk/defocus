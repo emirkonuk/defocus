{
 "cells": [
  {
   "cell_type": "code",
   "execution_count": null,
   "metadata": {},
   "outputs": [],
   "source": [
    "# default_exp dataset"
   ]
  },
  {
   "cell_type": "code",
   "execution_count": null,
   "metadata": {},
   "outputs": [],
   "source": [
    "#export\n",
    "import albumentations as albu\n",
    "import copy\n",
    "import cv2\n",
    "from skimage.transform import pyramid_gaussian\n",
    "import numpy as np\n",
    "from functools import partial\n",
    "from typing import Tuple\n",
    "\n",
    "import torch.utils.data as data\n",
    "from defocus.blurring import hanser_defocus"
   ]
  },
  {
   "cell_type": "code",
   "execution_count": null,
   "metadata": {},
   "outputs": [],
   "source": [
    "#export\n",
    "class BaseDataset(data.Dataset):\n",
    "    \"\"\"Base dataset class.\"\"\"\n",
    "    def __init__(self,\n",
    "                 input_list=None,\n",
    "                 target_list=None, \n",
    "                 forward_process=None,\n",
    "                 augment=None,\n",
    "                 corrupt=None,\n",
    "                 normalize=None,\n",
    "                 pyramid_levels=1,\n",
    "                 dim_order='NCHW', #TODO: unused argument, add support for different channel order\n",
    "                 ):\n",
    "        \"\"\"Init function.\n",
    "        \n",
    "        Args:\n",
    "            input_list: \n",
    "                a list consisting of the full paths to the input images.                 \n",
    "                if forward_process_func is not None, this should be the \n",
    "                same as the target list. the forward_process_func will \n",
    "                be applied to the inputs to simulate actual processes\n",
    "            target_list: \n",
    "                a list consisting of the full paths to the target images.\n",
    "            forward_process_func:\n",
    "                if used, the input images are transformed by this function\n",
    "                to simulate various effects. e.g. they are blurred with a\n",
    "                hanser_blur function to simulate a defocus blur\n",
    "            augment: \n",
    "                check the example yaml file. these are the augmentations \n",
    "                like flips and random crops. applied to input and target\n",
    "            corrupt: \n",
    "                check the example yaml file. these are corruptions like\n",
    "                noise, blur, jpeg compression. applied to input only\n",
    "            normalize:\n",
    "                you would think <who cares?> Seungjun says when\n",
    "                max_val=255, his models work better. so, yeah.\n",
    "                note that this does not convert to tensor so if you\n",
    "                write your own collate_fn, remember that.\n",
    "            pyramid_levels:\n",
    "                if you have a multiscale architecture, you need an image\n",
    "                pyramid. this is how many scales you have in the pyramid\n",
    "            dim_order:\n",
    "                maybe someday         \n",
    "        \"\"\"\n",
    "        super(BaseDataset, self).__init__()\n",
    "        self.input_list = input_list\n",
    "        self.target_list = target_list\n",
    "        assert len(self.input_list) == len(self.target_list)\n",
    "        # get augmentation operators\n",
    "        # TODO: if .yaml says None, these should just return an identity mapping\n",
    "        self.augment = get_transformation(augment)\n",
    "        self.corrupt = get_transformation(corrupt)\n",
    "        self.normalize = get_transformation(normalize)\n",
    "        self.pyramid = get_pyramid_generator(pyramid_levels)\n",
    "        # forward process simulator\n",
    "        self.forward_process_func = get_forward_process(forward_process)\n",
    "        # TODO: we may want to both have distorted inputs and \n",
    "        # apply a forward_process on top. in the future. maybe.\n",
    "        if self.forward_process_func is not None:\n",
    "            self.input_list = self.target_list\n",
    "        \n",
    "        self.length = len(self.input_list)\n",
    "    \n",
    "    def __len__(self):\n",
    "        return self.length\n",
    "        \n",
    "    def __getitem__(self, idx) -> Tuple:\n",
    "        # remember that opencv has BGR order so read and convert\n",
    "        target = cv2.imread(self.target_list[idx])[:,:,::-1]        \n",
    "        # read the input image or simulate it\n",
    "        if self.forward_process_func is None:        \n",
    "            input_ = cv2.imread(self.input_list[idx])[:,:,::-1]\n",
    "        else:\n",
    "            input_, target = self.forward_process_func(target)\n",
    "        \n",
    "        input_, target = self.augment(input_, target)\n",
    "        input_ = self.corrupt(input_)\n",
    "        input_, target = self.normalize(input_, target)\n",
    "        input_, target = np.transpose(input_, (2, 0, 1)), np.transpose(target, (2, 0, 1))\n",
    "        # this is to generate an image pyramid, it is an identity function by default\n",
    "        input_, target = self.pyramid(input_, target)\n",
    "        return input_, target"
   ]
  },
  {
   "cell_type": "code",
   "execution_count": null,
   "metadata": {},
   "outputs": [],
   "source": [
    "#export\n",
    "# TODO: tie this scale thing to the image size instead of reading \n",
    "# it from the .yaml (maybe?)\n",
    "def get_forward_process(simulator):\n",
    "    if simulator is None:\n",
    "        return None\n",
    "    kwargs = copy.deepcopy(vars(simulator))\n",
    "    forward_processes = {'hanser_defocus': hanser_defocus,\n",
    "                        }\n",
    "    function_handle = forward_processes[kwargs.pop('type')]\n",
    "    forward_process = partial(function_handle, **kwargs)\n",
    "    return forward_process\n",
    "\n",
    "'''\n",
    "Here is a lesson: you can't pickle nested functions, they are not in the correct context\n",
    "https://stackoverflow.com/questions/52265120/python-multiprocessing-pool-attributeerror\n",
    "\n",
    "So what do you do? \n",
    "https://stackoverflow.com/questions/12019961/python-pickling-nested-functions\n",
    "\n",
    "Basically, this ugly __call__ thingy.\n",
    "\n",
    "Why bother at all? Lightning uses pytorch uses multiprocesssing uses pickle. \n",
    "\n",
    "So this function definition\n",
    "\n",
    "def get_transformation(augmentation):        \n",
    "    # this reads the relevant yaml part and \n",
    "    # returns an albumentation function   \n",
    "    def recursive_getattr(_augmentation):\n",
    "        augmentation = copy.deepcopy(_augmentation)\n",
    "        # I wanted to use recursion since forever\n",
    "        # I am sorry and  I won't do it again\n",
    "        if not hasattr(augmentation, 'transforms'):\n",
    "            return getattr(albu, vars(augmentation).pop('type'))(**vars(augmentation))\n",
    "        else:\n",
    "            func = getattr(albu, vars(augmentation).pop('type'))\n",
    "            transforms = vars(augmentation).pop('transforms')\n",
    "            transforms = [recursive_getattr(transform) for transform in transforms]\n",
    "            if hasattr(augmentation, 'additional_targets'):\n",
    "                vars(augmentation).pop('additional_targets')                \n",
    "                return func(**vars(augmentation), additional_targets={'target': 'image'}, transforms=transforms)\n",
    "            else:\n",
    "                return func(**vars(augmentation), transforms=transforms)\n",
    "    # aug_func is the albumentation function e.g. albu.Normalize\n",
    "    # note that this is a function object with albumentation's kwargs\n",
    "    aug_func = recursive_getattr(augmentation)\n",
    "\n",
    "    # I don't like albumentation's kwargs, so this is a wrapper:\n",
    "    def process(input_, target=None):\n",
    "        if hasattr(aug_func, 'additional_targets'):\n",
    "            returned_tuple = aug_func(image=input_, target=target)\n",
    "            return returned_tuple['image'], returned_tuple['target']\n",
    "        else:\n",
    "            return aug_func(image=input_)['image']\n",
    "\n",
    "    return process\n",
    "    \n",
    "becomes the following class:\n",
    "'''\n",
    "class get_transformation(object):  \n",
    "    def __init__(self, augmentation):\n",
    "        self.augmentation = augmentation\n",
    "        # aug_func is the albumentation function e.g. albu.Normalize\n",
    "        # note that this is a function object with albumentation's kwargs\n",
    "        self.aug_func = self.recursive_getattr(augmentation)        \n",
    "    # this reads the relevant yaml part and \n",
    "    # returns an albumentation function   \n",
    "    def recursive_getattr(self, _augmentation):\n",
    "        augmentation = copy.deepcopy(_augmentation)\n",
    "        # I wanted to use recursion since forever\n",
    "        # I am sorry and  I won't do it again\n",
    "        if augmentation is None:\n",
    "            return None\n",
    "        if not hasattr(augmentation, 'transforms'):\n",
    "            return getattr(albu, vars(augmentation).pop('type'))(**vars(augmentation))\n",
    "        else:\n",
    "            func = getattr(albu, vars(augmentation).pop('type'))\n",
    "            transforms = vars(augmentation).pop('transforms')\n",
    "            transforms = [self.recursive_getattr(transform) for transform in transforms]\n",
    "            if hasattr(augmentation, 'additional_targets'):\n",
    "                vars(augmentation).pop('additional_targets')                \n",
    "                return func(**vars(augmentation), additional_targets={'target': 'image'}, transforms=transforms)\n",
    "            else:\n",
    "                return func(**vars(augmentation), transforms=transforms)\n",
    "            \n",
    "    def __call__(self, input_, target=None):\n",
    "        if hasattr(self.aug_func, 'additional_targets'):\n",
    "            returned_tuple = self.aug_func(image=input_, target=target)\n",
    "            return returned_tuple['image'], returned_tuple['target']\n",
    "        elif self.aug_func is not None:\n",
    "            return self.aug_func(image=input_)['image']\n",
    "        else:\n",
    "            return input_\n",
    "\n",
    "class get_pyramid_generator(object):\n",
    "    def __init__(self, pyramid_levels):\n",
    "        self.pyramid_levels = pyramid_levels\n",
    "        \n",
    "    def __call__(self, input_, target):\n",
    "        # if there is no pyramid, just an identity mapping\n",
    "        if self.pyramid_levels == 1:\n",
    "            return input_, target\n",
    "        # sskimage.transform.pyramid_gaussian expects CHW input, so first go back to HWC\n",
    "        input_ = input_.astype(np.float32).transpose(1,2,0)\n",
    "        target = target.astype(np.float32).transpose(1,2,0)\n",
    "        # note the order reversal. we are providing the coarsest image as input_pyramid[0]\n",
    "        # and the original resolution as the last, i.e. input_pyramid[2]\n",
    "        input_pyramid = list(pyramid_gaussian(input_, self.pyramid_levels-1, multichannel=True))[::-1]\n",
    "        target_pyramid = list(pyramid_gaussian(target, self.pyramid_levels-1, multichannel=True))[::-1]\n",
    "\n",
    "        # convert to tensors\n",
    "        # ugly, but explicit\n",
    "        input_ = []\n",
    "        target = []\n",
    "        for scaled_input, scaled_target in zip(input_pyramid, target_pyramid):\n",
    "            # ascontiguousarray is safer before tensor conversions\n",
    "            scaled_input = np.ascontiguousarray(scaled_input.transpose(2, 0, 1))\n",
    "            scaled_target = np.ascontiguousarray(scaled_target.transpose(2, 0, 1))\n",
    "            input_.append(scaled_input)\n",
    "            target.append(scaled_target)\n",
    "\n",
    "        return input_, target"
   ]
  },
  {
   "cell_type": "code",
   "execution_count": null,
   "metadata": {},
   "outputs": [
    {
     "name": "stdout",
     "output_type": "stream",
     "text": [
      "Converted 01_utilities.ipynb.\n",
      "Converted 02_architecture_common.ipynb.\n",
      "Converted 03_architecture_MSResNet.ipynb.\n",
      "Converted 04_architecture_DeblurGANv2.ipynb.\n",
      "Converted 05_blurring.ipynb.\n",
      "Converted 06_dataset.ipynb.\n",
      "Converted 07_losses.ipynb.\n",
      "Converted 08_callbacks.ipynb.\n",
      "Converted 09_model.ipynb.\n",
      "Converted fuckit.ipynb.\n"
     ]
    }
   ],
   "source": [
    "from nbdev.export import *\n",
    "notebook2script()"
   ]
  },
  {
   "cell_type": "code",
   "execution_count": null,
   "metadata": {},
   "outputs": [],
   "source": []
  },
  {
   "cell_type": "code",
   "execution_count": null,
   "metadata": {},
   "outputs": [],
   "source": []
  },
  {
   "cell_type": "code",
   "execution_count": null,
   "metadata": {},
   "outputs": [],
   "source": []
  },
  {
   "cell_type": "code",
   "execution_count": null,
   "metadata": {},
   "outputs": [],
   "source": [
    "import argparse\n",
    "import ruamel_yaml as yaml\n",
    "import os\n",
    "import torch\n",
    "import pytorch_lightning as pl\n",
    "from pytorch_lightning.loggers import WandbLogger\n",
    "from pytorch_lightning.callbacks import LearningRateMonitor\n",
    "\n",
    "from defocus.model import Model\n",
    "from defocus.utilities import Bunch, get_GOPRO_lists\n",
    "import defocus.callbacks as Callbacks"
   ]
  },
  {
   "cell_type": "code",
   "execution_count": null,
   "metadata": {},
   "outputs": [],
   "source": [
    "parser = argparse.ArgumentParser(description='It is time for more... experiments.')\n",
    "parser.add_argument('--config_path', type=str, default='configs/config.yaml', help='Experiment configuration')\n",
    "\n",
    "argv = ['--config_path', '../configs/config.yaml']\n",
    "args = parser.parse_args(argv)\n",
    "\n",
    "with open(args.config_path, 'r') as f:\n",
    "    config = yaml.safe_load(f)\n",
    "    # Bunch is for **recursively** creating a Namespace from dict object\n",
    "    bunch = Bunch(config)\n",
    "    # but lightning must have a Namespace object, so convert to Namespace back again\n",
    "    args = argparse.Namespace(**vars(bunch))\n",
    "\n",
    "args = argparse.Namespace(**vars(bunch))"
   ]
  },
  {
   "cell_type": "code",
   "execution_count": null,
   "metadata": {},
   "outputs": [],
   "source": [
    "augs = args.input.validation_corruptions"
   ]
  },
  {
   "cell_type": "code",
   "execution_count": null,
   "metadata": {},
   "outputs": [],
   "source": [
    "augs"
   ]
  },
  {
   "cell_type": "code",
   "execution_count": null,
   "metadata": {},
   "outputs": [
    {
     "ename": "TypeError",
     "evalue": "vars() argument must have __dict__ attribute",
     "output_type": "error",
     "traceback": [
      "\u001b[0;31m---------------------------------------------------------------------------\u001b[0m",
      "\u001b[0;31mTypeError\u001b[0m                                 Traceback (most recent call last)",
      "\u001b[0;32m<ipython-input-19-cd93a770fa73>\u001b[0m in \u001b[0;36m<module>\u001b[0;34m\u001b[0m\n\u001b[0;32m----> 1\u001b[0;31m \u001b[0mtrans\u001b[0m \u001b[0;34m=\u001b[0m \u001b[0mget_transformation\u001b[0m\u001b[0;34m(\u001b[0m\u001b[0maugs\u001b[0m\u001b[0;34m)\u001b[0m\u001b[0;34m\u001b[0m\u001b[0;34m\u001b[0m\u001b[0m\n\u001b[0m",
      "\u001b[0;32m<ipython-input-10-dd98dc001c31>\u001b[0m in \u001b[0;36m__init__\u001b[0;34m(self, augmentation)\u001b[0m\n\u001b[1;32m     64\u001b[0m         \u001b[0;31m# aug_func is the albumentation function e.g. albu.Normalize\u001b[0m\u001b[0;34m\u001b[0m\u001b[0;34m\u001b[0m\u001b[0;34m\u001b[0m\u001b[0m\n\u001b[1;32m     65\u001b[0m         \u001b[0;31m# note that this is a function object with albumentation's kwargs\u001b[0m\u001b[0;34m\u001b[0m\u001b[0;34m\u001b[0m\u001b[0;34m\u001b[0m\u001b[0m\n\u001b[0;32m---> 66\u001b[0;31m         \u001b[0mself\u001b[0m\u001b[0;34m.\u001b[0m\u001b[0maug_func\u001b[0m \u001b[0;34m=\u001b[0m \u001b[0mself\u001b[0m\u001b[0;34m.\u001b[0m\u001b[0mrecursive_getattr\u001b[0m\u001b[0;34m(\u001b[0m\u001b[0maugmentation\u001b[0m\u001b[0;34m)\u001b[0m\u001b[0;34m\u001b[0m\u001b[0;34m\u001b[0m\u001b[0m\n\u001b[0m\u001b[1;32m     67\u001b[0m     \u001b[0;31m# this reads the relevant yaml part and\u001b[0m\u001b[0;34m\u001b[0m\u001b[0;34m\u001b[0m\u001b[0;34m\u001b[0m\u001b[0m\n\u001b[1;32m     68\u001b[0m     \u001b[0;31m# returns an albumentation function\u001b[0m\u001b[0;34m\u001b[0m\u001b[0;34m\u001b[0m\u001b[0;34m\u001b[0m\u001b[0m\n",
      "\u001b[0;32m<ipython-input-10-dd98dc001c31>\u001b[0m in \u001b[0;36mrecursive_getattr\u001b[0;34m(self, _augmentation)\u001b[0m\n\u001b[1;32m     72\u001b[0m         \u001b[0;31m# I am sorry and  I won't do it again\u001b[0m\u001b[0;34m\u001b[0m\u001b[0;34m\u001b[0m\u001b[0;34m\u001b[0m\u001b[0m\n\u001b[1;32m     73\u001b[0m         \u001b[0;32mif\u001b[0m \u001b[0;32mnot\u001b[0m \u001b[0mhasattr\u001b[0m\u001b[0;34m(\u001b[0m\u001b[0maugmentation\u001b[0m\u001b[0;34m,\u001b[0m \u001b[0;34m'transforms'\u001b[0m\u001b[0;34m)\u001b[0m\u001b[0;34m:\u001b[0m\u001b[0;34m\u001b[0m\u001b[0;34m\u001b[0m\u001b[0m\n\u001b[0;32m---> 74\u001b[0;31m             \u001b[0;32mreturn\u001b[0m \u001b[0mgetattr\u001b[0m\u001b[0;34m(\u001b[0m\u001b[0malbu\u001b[0m\u001b[0;34m,\u001b[0m \u001b[0mvars\u001b[0m\u001b[0;34m(\u001b[0m\u001b[0maugmentation\u001b[0m\u001b[0;34m)\u001b[0m\u001b[0;34m.\u001b[0m\u001b[0mpop\u001b[0m\u001b[0;34m(\u001b[0m\u001b[0;34m'type'\u001b[0m\u001b[0;34m)\u001b[0m\u001b[0;34m)\u001b[0m\u001b[0;34m(\u001b[0m\u001b[0;34m**\u001b[0m\u001b[0mvars\u001b[0m\u001b[0;34m(\u001b[0m\u001b[0maugmentation\u001b[0m\u001b[0;34m)\u001b[0m\u001b[0;34m)\u001b[0m\u001b[0;34m\u001b[0m\u001b[0;34m\u001b[0m\u001b[0m\n\u001b[0m\u001b[1;32m     75\u001b[0m         \u001b[0;32melse\u001b[0m\u001b[0;34m:\u001b[0m\u001b[0;34m\u001b[0m\u001b[0;34m\u001b[0m\u001b[0m\n\u001b[1;32m     76\u001b[0m             \u001b[0mfunc\u001b[0m \u001b[0;34m=\u001b[0m \u001b[0mgetattr\u001b[0m\u001b[0;34m(\u001b[0m\u001b[0malbu\u001b[0m\u001b[0;34m,\u001b[0m \u001b[0mvars\u001b[0m\u001b[0;34m(\u001b[0m\u001b[0maugmentation\u001b[0m\u001b[0;34m)\u001b[0m\u001b[0;34m.\u001b[0m\u001b[0mpop\u001b[0m\u001b[0;34m(\u001b[0m\u001b[0;34m'type'\u001b[0m\u001b[0;34m)\u001b[0m\u001b[0;34m)\u001b[0m\u001b[0;34m\u001b[0m\u001b[0;34m\u001b[0m\u001b[0m\n",
      "\u001b[0;31mTypeError\u001b[0m: vars() argument must have __dict__ attribute"
     ]
    }
   ],
   "source": [
    "trans = get_transformation(augs)"
   ]
  },
  {
   "cell_type": "code",
   "execution_count": null,
   "metadata": {},
   "outputs": [],
   "source": [
    "input_list, target_list = get_GOPRO_lists(root_folder=args.input.datapath.root_folder,\n",
    "                                                  image_pair_list=args.input.datapath.image_pair_list\n",
    "                                                 )"
   ]
  },
  {
   "cell_type": "code",
   "execution_count": null,
   "metadata": {},
   "outputs": [],
   "source": [
    "target = cv2.imread(target_list[0])[:,:,::-1]     \n",
    "input_ = cv2.imread(input_list[0])[:,:,::-1]  "
   ]
  },
  {
   "cell_type": "code",
   "execution_count": null,
   "metadata": {},
   "outputs": [],
   "source": [
    "trans = get_transformation(augs)"
   ]
  },
  {
   "cell_type": "code",
   "execution_count": null,
   "metadata": {},
   "outputs": [],
   "source": [
    "input_aug, target_aug = trans(input_, target)"
   ]
  },
  {
   "cell_type": "code",
   "execution_count": null,
   "metadata": {},
   "outputs": [],
   "source": [
    "import matplotlib.pyplot as plt"
   ]
  },
  {
   "cell_type": "code",
   "execution_count": null,
   "metadata": {},
   "outputs": [
    {
     "data": {
      "text/plain": [
       "<matplotlib.image.AxesImage at 0x7f5fe83e06a0>"
      ]
     },
     "execution_count": null,
     "metadata": {},
     "output_type": "execute_result"
    },
    {
     "data": {
      "image/png": "[encoded data removed]",
      "text/plain": [
       "<Figure size 432x288 with 2 Axes>"
      ]
     },
     "metadata": {
      "needs_background": "light"
     },
     "output_type": "display_data"
    }
   ],
   "source": [
    "plt.subplot(121)\n",
    "plt.imshow(target)\n",
    "plt.subplot(122)\n",
    "plt.imshow(target_aug)"
   ]
  },
  {
   "cell_type": "code",
   "execution_count": null,
   "metadata": {},
   "outputs": [],
   "source": []
  },
  {
   "cell_type": "code",
   "execution_count": null,
   "metadata": {},
   "outputs": [],
   "source": []
  },
  {
   "cell_type": "code",
   "execution_count": null,
   "metadata": {},
   "outputs": [],
   "source": []
  },
  {
   "cell_type": "code",
   "execution_count": null,
   "metadata": {},
   "outputs": [],
   "source": []
  },
  {
   "cell_type": "code",
   "execution_count": null,
   "metadata": {},
   "outputs": [],
   "source": []
  },
  {
   "cell_type": "code",
   "execution_count": null,
   "metadata": {},
   "outputs": [],
   "source": []
  },
  {
   "cell_type": "code",
   "execution_count": null,
   "metadata": {},
   "outputs": [],
   "source": [
    "class foo(object):\n",
    "    def __init__(self, a):\n",
    "        self.a = a\n",
    "    def __call__(self, b): # the function formerly known as \"bar\"\n",
    "        return self.a + b"
   ]
  },
  {
   "cell_type": "code",
   "execution_count": null,
   "metadata": {},
   "outputs": [],
   "source": [
    "d = {1:foo(1), 2:foo(2)}"
   ]
  },
  {
   "cell_type": "code",
   "execution_count": null,
   "metadata": {},
   "outputs": [
    {
     "data": {
      "text/plain": [
       "(6, 7)"
      ]
     },
     "execution_count": null,
     "metadata": {},
     "output_type": "execute_result"
    }
   ],
   "source": [
    "d[1](5), d[2](5)"
   ]
  },
  {
   "cell_type": "code",
   "execution_count": null,
   "metadata": {},
   "outputs": [],
   "source": [
    "def foo(a):\n",
    "    def bar(b):\n",
    "        return a+b\n",
    "    return bar"
   ]
  },
  {
   "cell_type": "code",
   "execution_count": null,
   "metadata": {},
   "outputs": [],
   "source": [
    "d = {1:foo(1), 2:foo(2)}"
   ]
  },
  {
   "cell_type": "code",
   "execution_count": null,
   "metadata": {},
   "outputs": [
    {
     "data": {
      "text/plain": [
       "(6, 7)"
      ]
     },
     "execution_count": null,
     "metadata": {},
     "output_type": "execute_result"
    }
   ],
   "source": [
    "d[1](5), d[2](5)"
   ]
  },
  {
   "cell_type": "code",
   "execution_count": null,
   "metadata": {},
   "outputs": [],
   "source": []
  }
 ],
 "metadata": {
  "kernelspec": {
   "display_name": "Python 3",
   "language": "python",
   "name": "python3"
  }
 },
 "nbformat": 4,
 "nbformat_minor": 4
}

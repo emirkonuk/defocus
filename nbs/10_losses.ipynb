{
 "cells": [
  {
   "cell_type": "code",
   "execution_count": null,
   "metadata": {},
   "outputs": [],
   "source": [
    "# default_exp losses"
   ]
  },
  {
   "cell_type": "code",
   "execution_count": null,
   "metadata": {},
   "outputs": [],
   "source": [
    "# export\n",
    "import torch\n",
    "import torch.nn as nn\n",
    "import random\n",
    "import numpy as np\n",
    "import torch\n",
    "from collections import deque\n",
    "\n",
    "\n",
    "def set_weighted_loss(loss_functions=[nn.BCEWithLogitsLoss], weights=[1.0]):\n",
    "    def weighted_loss(input_, target):\n",
    "        total = 0\n",
    "        for (func, weight) in zip(loss_functions, weights):\n",
    "            total += func(input_, target)*weight\n",
    "        return total\n",
    "    return weighted_loss\n",
    "\n",
    "\n",
    "def get_loss():\n",
    "    pass\n",
    "\n",
    "# from DeblurGANv2 \n",
    "class ImagePool():\n",
    "    def __init__(self, pool_size):\n",
    "        self.pool_size = pool_size\n",
    "        self.sample_size = pool_size\n",
    "        if self.pool_size > 0:\n",
    "            self.num_imgs = 0\n",
    "            self.images = deque()\n",
    "\n",
    "    def add(self, images):\n",
    "        if self.pool_size == 0:\n",
    "            return images\n",
    "        for image in images.data:\n",
    "            image = torch.unsqueeze(image, 0)\n",
    "            if self.num_imgs < self.pool_size:\n",
    "                self.num_imgs = self.num_imgs + 1\n",
    "                self.images.append(image)\n",
    "            else:\n",
    "                self.images.popleft()\n",
    "                self.images.append(image)\n",
    "\n",
    "    def query(self):\n",
    "        if len(self.images) > self.sample_size:\n",
    "            return_images = list(random.sample(self.images, self.sample_size))\n",
    "        else:\n",
    "            return_images = list(self.images)\n",
    "        return torch.cat(return_images, 0)\n"
   ]
  }
 ],
 "metadata": {
  "kernelspec": {
   "display_name": "Python 3.8.3 64-bit",
   "language": "python",
   "name": "python38364bitec6aeeddf80b4ceea59630065b4104ef"
  }
 },
 "nbformat": 4,
 "nbformat_minor": 4
}

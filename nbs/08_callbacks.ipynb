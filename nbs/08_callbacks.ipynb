{
 "cells": [
  {
   "cell_type": "code",
   "execution_count": null,
   "metadata": {},
   "outputs": [],
   "source": [
    "# default_exp callbacks"
   ]
  },
  {
   "cell_type": "code",
   "execution_count": null,
   "metadata": {},
   "outputs": [],
   "source": [
    "#export\n",
    "import pytorch_lightning as pl"
   ]
  },
  {
   "cell_type": "code",
   "execution_count": null,
   "metadata": {},
   "outputs": [],
   "source": [
    "#export\n",
    "class DeblurGANv2Callbacks(pl.Callback):\n",
    "    def on_validation_model_eval(self):\n",
    "        # this doesn't work as a Callback, need to call from inside the lightning module \n",
    "        # I made a comment here:\n",
    "        # https://github.com/PyTorchLightning/pytorch-lightning/issues/2551#issuecomment-742601083\n",
    "        self.train()\n",
    "    \n",
    "    def on_epoch_start(self, trainer, pl_module):\n",
    "        if trainer.current_epoch == 3:\n",
    "            print(\"Unfreeze was called by a callback.\")\n",
    "            pl_module.G.unfreeze()"
   ]
  },
  {
   "cell_type": "code",
   "execution_count": null,
   "metadata": {},
   "outputs": [
    {
     "name": "stdout",
     "output_type": "stream",
     "text": [
      "Converted 01_utilities.ipynb.\n",
      "Converted 02_architecture_common.ipynb.\n",
      "Converted 03_architecture_MSResNet.ipynb.\n",
      "Converted 04_architecture_DeblurGANv2.ipynb.\n",
      "Converted 05_blurring.ipynb.\n",
      "Converted 06_dataset.ipynb.\n",
      "Converted 07_losses.ipynb.\n",
      "Converted 08_callbacks.ipynb.\n",
      "Converted fuckit.ipynb.\n"
     ]
    }
   ],
   "source": [
    "from nbdev.export import *\n",
    "notebook2script()"
   ]
  },
  {
   "cell_type": "code",
   "execution_count": null,
   "metadata": {},
   "outputs": [],
   "source": []
  }
 ],
 "metadata": {
  "kernelspec": {
   "display_name": "Python 3",
   "language": "python",
   "name": "python3"
  }
 },
 "nbformat": 4,
 "nbformat_minor": 4
}

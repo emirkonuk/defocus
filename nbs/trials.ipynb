{
 "cells": [
  {
   "cell_type": "code",
   "execution_count": null,
   "metadata": {},
   "outputs": [],
   "source": [
    "import argparse\n",
    "import importlib\n",
    "import torch\n",
    "import torch.nn as nn\n",
    "from defocus.model import Model"
   ]
  },
  {
   "cell_type": "code",
   "execution_count": null,
   "metadata": {},
   "outputs": [],
   "source": [
    "argv = ['--batch_size', '4', '--num_workers', '4']\n",
    "\n",
    "parser = argparse.ArgumentParser(description='It is time for more... experiments.')\n",
    "parser.add_argument('--batch_size', type=int, default=8, help='input batch size for training')\n",
    "parser.add_argument('--num_workers', type=int, default=6, help='the number of dataloader workers')\n",
    "parser.add_argument('--distributed', action='store_true', help='blurb')\n",
    "parser.add_argument('--world_size', default=1, type=int,\n",
    "                    help='number of nodes for distributed training')\n",
    "\n",
    "args = parser.parse_args(argv)"
   ]
  },
  {
   "cell_type": "code",
   "execution_count": null,
   "metadata": {},
   "outputs": [],
   "source": [
    "model_name = 'MSResNet'\n",
    "architecture = importlib.import_module('defocus.architecture.' + model_name)\n",
    "training = importlib.import_module('defocus.trainers.' + model_name)"
   ]
  },
  {
   "cell_type": "code",
   "execution_count": null,
   "metadata": {},
   "outputs": [],
   "source": [
    "G = architecture.Generator()\n",
    "D = architecture.Discriminator()"
   ]
  },
  {
   "cell_type": "code",
   "execution_count": null,
   "metadata": {},
   "outputs": [],
   "source": [
    "model = Model()\n",
    "model.G = G\n",
    "model.D = D\n",
    "# model.use_perceptual()\n",
    "model.set_G_optimizer('AdamP')\n",
    "model.set_D_optimizer('AdamP')"
   ]
  },
  {
   "cell_type": "code",
   "execution_count": null,
   "metadata": {},
   "outputs": [],
   "source": [
    "model.set_resconstruction_loss(loss_functions=[nn.L1Loss()], \n",
    "                               weights=[1.0])\n",
    "model.set_adversarial_loss(loss_functions=[nn.BCEWithLogitsLoss()],\n",
    "                           weights=[1.0])"
   ]
  },
  {
   "cell_type": "code",
   "execution_count": null,
   "metadata": {},
   "outputs": [],
   "source": [
    "data = importlib.import_module('defocus.data.' + model_name)\n",
    "train_dataset = data.Dataset(root_folder='/storage/projects/all_datasets/GOPRO/train/', \n",
    "                             image_pair_list='/storage/projects/all_datasets/GOPRO/train/train_image_pair_list.txt',\n",
    "                            )\n",
    "validation_dataset = data.Dataset(root_folder='/storage/projects/all_datasets/GOPRO/train/', \n",
    "                                  image_pair_list='/storage/projects/all_datasets/GOPRO/train/val_image_pair_list.txt',\n",
    "                                 )"
   ]
  },
  {
   "cell_type": "code",
   "execution_count": null,
   "metadata": {},
   "outputs": [],
   "source": [
    "trainer = training.Trainer(model, \n",
    "                           train_dataset, validation_dataset,\n",
    "                           batch_size=args.batch_size,\n",
    "                           num_workers=args.num_workers\n",
    "                          )"
   ]
  },
  {
   "cell_type": "code",
   "execution_count": null,
   "metadata": {},
   "outputs": [],
   "source": [
    "trainer.train(epoch=0)"
   ]
  },
  {
   "cell_type": "code",
   "execution_count": null,
   "metadata": {},
   "outputs": [],
   "source": []
  },
  {
   "cell_type": "code",
   "execution_count": null,
   "metadata": {},
   "outputs": [],
   "source": []
  },
  {
   "cell_type": "code",
   "execution_count": null,
   "metadata": {},
   "outputs": [],
   "source": []
  },
  {
   "cell_type": "code",
   "execution_count": null,
   "metadata": {},
   "outputs": [],
   "source": []
  },
  {
   "cell_type": "code",
   "execution_count": null,
   "metadata": {},
   "outputs": [],
   "source": [
    "\n"
   ]
  },
  {
   "cell_type": "raw",
   "metadata": {},
   "source": [
    "gpu_idx = 0\n",
    "device = torch.device(gpu_idx) if gpu_idx is not None else torch.device('cpu')"
   ]
  },
  {
   "cell_type": "raw",
   "metadata": {},
   "source": [
    "argv = ['--batch_size', '4', '--num_workers', '4', '--world_size', '2', '--rank', '0']\n",
    "\n",
    "default_parser = argparse.ArgumentParser(description='It is time for more... experiments.')\n",
    "default_parser.add_argument('--batch_size', type=int, default=8, help='input batch size for training')\n",
    "default_parser.add_argument('--num_workers', type=int, default=6, help='the number of dataloader workers')\n",
    "default_parser.add_argument('--distributed_args', default=None, help='don\\'t use this, it will be populated automatically')\n",
    "\n",
    "distributed_args_parser = argparse.ArgumentParser(description='Just for the distributed training parameters')\n",
    "distributed_args_parser.add_argument('--rank', type=int, default=0, help='rank of the distributed process (gpu id). 0 is the master process.')\n",
    "distributed_args_parser.add_argument('--world_size', type=int, default=1, help='world_size for distributed training (number of GPUs)')\n",
    "\n",
    "args, distributed_args = default_parser.parse_known_args(argv)\n",
    "if len(distributed_args):\n",
    "    args.distributed_args = distributed_args_parser.parse_args(distributed_args)"
   ]
  }
 ],
 "metadata": {
  "kernelspec": {
   "display_name": "Python [conda env:defocus] *",
   "language": "python",
   "name": "conda-env-defocus-py"
  }
 },
 "nbformat": 4,
 "nbformat_minor": 4
}

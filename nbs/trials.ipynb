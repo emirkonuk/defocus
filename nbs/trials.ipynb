{
 "cells": [
  {
   "cell_type": "code",
   "execution_count": null,
   "metadata": {},
   "outputs": [],
   "source": [
    "import argparse\n",
    "import importlib\n",
    "import torch\n",
    "import torch.nn as nn\n",
    "from defocus.model import GAN"
   ]
  },
  {
   "cell_type": "code",
   "execution_count": null,
   "metadata": {
    "tags": []
   },
   "outputs": [],
   "source": [
    "parser = argparse.ArgumentParser(description='It is time for more... experiments.')\n",
    "parser.add_argument('--model_name', type=str, default='MSResNet', help='model name')\n",
    "parser.add_argument('--batch_size', type=int, default=8, help='input batch size for training')\n",
    "parser.add_argument('--num_gpu', type=int, default=2, help='number of gpus to use')\n",
    "parser.add_argument('--num_workers', type=int, default=8, help='the number of dataloader workers')\n",
    "parser.add_argument('--lr', type=float, default=1e-4, help='learning rate')\n",
    "parser.add_argument('--betas', type=float, nargs=2, default=(0.9, 0.999), help='ADAM betas')\n",
    "parser.add_argument('--adv_loss', nargs='+', default=('BCEWithLogitsLoss', '1.0'), action='store', \n",
    "                    help='Adversarial loss function(s) and weighting, e.g. BCEWithLogitsLoss 0.5 MSELoss 0.5')\n",
    "parser.add_argument('--rec_loss', nargs='+', default=('MSELoss', '1.0'), action='store',\n",
    "                    help='Reconstruction loss function(s) and weighting, e.g. L1Loss 0.5 MSELoss 0.5')\n",
    "parser.add_argument('--per_loss', nargs='+', action='store', \n",
    "                    help='Perceptual loss function(s) and weighting, e.g. L1Loss 0.5 MSELoss 0.5')\n",
    "parser.add_argument('--fp16', action='store_true',\n",
    "                    help='Mixed precision')\n",
    "parser.add_argument('--optimizer', type=str, default='Adam', help='optimizer to use. currently Adam or AdamP')\n",
    "parser.add_argument('--milestones', type=int, nargs='+', default=[500, 750, 900], help='learning rate decay per N epochs')\n",
    "parser.add_argument('--root_folder', type=str, default='/storage/ekonuk/projects/all_datasets/GOPRO/train/', help='root folder')\n",
    "parser.add_argument('--image_pair_list', type=str, default='/storage/ekonuk/projects/all_datasets/GOPRO/train/train_image_pair_list.txt', help='image list')\n",
    "parser.add_argument('--val_image_pair_list', type=str, default='/storage/ekonuk/projects/all_datasets/GOPRO/train/val_image_pair_list.txt', help='val image list')\n",
    "parser.add_argument('--stop_loss', type=int, default=None, help='the epoch to start cooperative adversarial training')\n",
    "parser.add_argument('--flood_loss', type=int, default=0, help='flood loss b threshold')\n",
    "parser.add_argument('--val_metric', type=str, nargs='+', default=['SSIM', 'PSNR'], help='validation evaluation metrics')\n",
    "parser.add_argument('--upload', action='store_false', help='if selected, will not upload')"
   ]
  },
  {
   "cell_type": "code",
   "execution_count": null,
   "metadata": {},
   "outputs": [],
   "source": [
    "argv = ['--batch_size', '2', \n",
    "        '--num_gpu', '1', \n",
    "        '--model_name', 'DeblurGANv2', \n",
    "        '--per_loss', 'MSELoss', '0.006', \n",
    "        '--rec_loss', 'MSELoss', '0.5',\n",
    "       ]\n",
    "args = parser.parse_args(argv)\n",
    "gan_model = GAN(args)"
   ]
  },
  {
   "cell_type": "code",
   "execution_count": null,
   "metadata": {},
   "outputs": [
    {
     "data": {
      "text/plain": [
       "['MSELoss', '0.006']"
      ]
     },
     "execution_count": null,
     "metadata": {},
     "output_type": "execute_result"
    }
   ],
   "source": [
    "args.per_loss"
   ]
  },
  {
   "cell_type": "code",
   "execution_count": null,
   "metadata": {},
   "outputs": [],
   "source": []
  },
  {
   "cell_type": "code",
   "execution_count": null,
   "metadata": {},
   "outputs": [],
   "source": []
  },
  {
   "cell_type": "code",
   "execution_count": null,
   "metadata": {},
   "outputs": [],
   "source": []
  },
  {
   "cell_type": "code",
   "execution_count": null,
   "metadata": {},
   "outputs": [],
   "source": []
  },
  {
   "cell_type": "code",
   "execution_count": null,
   "metadata": {},
   "outputs": [],
   "source": [
    "argv = ['--batch_size', '4', '--num_workers', '4']\n",
    "\n",
    "parser = argparse.ArgumentParser(description='It is time for more... experiments.')\n",
    "parser.add_argument('--batch_size', type=int, default=8, help='input batch size for training')\n",
    "parser.add_argument('--num_workers', type=int, default=6, help='the number of dataloader workers')\n",
    "parser.add_argument('--distributed', action='store_true', help='blurb')\n",
    "parser.add_argument('--world_size', default=1, type=int,\n",
    "                    help='number of nodes for distributed training')\n",
    "\n",
    "args = parser.parse_args(argv)"
   ]
  },
  {
   "cell_type": "code",
   "execution_count": null,
   "metadata": {},
   "outputs": [],
   "source": [
    "model_name = 'MSResNet'\n",
    "architecture = importlib.import_module('defocus.architecture.' + model_name)\n",
    "training = importlib.import_module('defocus.trainers.' + model_name)"
   ]
  },
  {
   "cell_type": "code",
   "execution_count": null,
   "metadata": {},
   "outputs": [],
   "source": [
    "G = architecture.Generator()\n",
    "D = architecture.Discriminator()"
   ]
  },
  {
   "cell_type": "code",
   "execution_count": null,
   "metadata": {},
   "outputs": [],
   "source": [
    "model = Model()\n",
    "model.G = G\n",
    "model.D = D\n",
    "# model.use_perceptual()\n",
    "model.set_G_optimizer('AdamP')\n",
    "model.set_D_optimizer('AdamP')"
   ]
  },
  {
   "cell_type": "code",
   "execution_count": null,
   "metadata": {},
   "outputs": [],
   "source": [
    "model.set_resconstruction_loss(loss_functions=[nn.L1Loss()], \n",
    "                               weights=[1.0])\n",
    "model.set_adversarial_loss(loss_functions=[nn.BCEWithLogitsLoss()],\n",
    "                           weights=[1.0])"
   ]
  },
  {
   "cell_type": "code",
   "execution_count": null,
   "metadata": {},
   "outputs": [],
   "source": [
    "data = importlib.import_module('defocus.data.' + model_name)\n",
    "train_dataset = data.Dataset(root_folder='/storage/projects/all_datasets/GOPRO/train/', \n",
    "                             image_pair_list='/storage/projects/all_datasets/GOPRO/train/train_image_pair_list.txt',\n",
    "                            )\n",
    "validation_dataset = data.Dataset(root_folder='/storage/projects/all_datasets/GOPRO/train/', \n",
    "                                  image_pair_list='/storage/projects/all_datasets/GOPRO/train/val_image_pair_list.txt',\n",
    "                                 )"
   ]
  },
  {
   "cell_type": "code",
   "execution_count": null,
   "metadata": {},
   "outputs": [],
   "source": [
    "trainer = training.Trainer(model, \n",
    "                           train_dataset, validation_dataset,\n",
    "                           batch_size=args.batch_size,\n",
    "                           num_workers=args.num_workers\n",
    "                          )"
   ]
  },
  {
   "cell_type": "code",
   "execution_count": null,
   "metadata": {},
   "outputs": [],
   "source": [
    "trainer.train(epoch=0)"
   ]
  },
  {
   "cell_type": "code",
   "execution_count": null,
   "metadata": {},
   "outputs": [],
   "source": []
  },
  {
   "cell_type": "code",
   "execution_count": null,
   "metadata": {},
   "outputs": [],
   "source": []
  },
  {
   "cell_type": "code",
   "execution_count": null,
   "metadata": {},
   "outputs": [],
   "source": []
  },
  {
   "cell_type": "code",
   "execution_count": null,
   "metadata": {},
   "outputs": [],
   "source": []
  },
  {
   "cell_type": "code",
   "execution_count": null,
   "metadata": {},
   "outputs": [],
   "source": []
  },
  {
   "cell_type": "code",
   "execution_count": null,
   "metadata": {},
   "outputs": [],
   "source": []
  },
  {
   "cell_type": "code",
   "execution_count": null,
   "metadata": {},
   "outputs": [],
   "source": []
  },
  {
   "cell_type": "code",
   "execution_count": null,
   "metadata": {},
   "outputs": [],
   "source": []
  },
  {
   "cell_type": "code",
   "execution_count": null,
   "metadata": {},
   "outputs": [],
   "source": [
    "import torch\n",
    "import cv2\n",
    "import albumentations\n",
    "import numpy as np\n",
    "\n",
    "transform = albumentations.Compose([albumentations.HorizontalFlip()],\n",
    "                                   additional_targets={'target_image':'image'})\n",
    "class Dataset(torch.utils.data.Dataset):\n",
    "    def __init__(self, transform=None):\n",
    "        super(Dataset, self).__init__()\n",
    "        self.transform = transform\n",
    "        self.length = 100\n",
    "        self.input_image = np.random.rand(224,224,3)\n",
    "        \n",
    "        \n",
    "    def __len__(self):\n",
    "        return self.length \n",
    "        \n",
    "    def __getitem__(self, idx):        \n",
    "        augmented = self.transform(image=self.input_image, \n",
    "                                   target_image=self.input_image)\n",
    "        input_image = augmented['image']\n",
    "        target_image = augmented['target_image']\n",
    "        return input_image, target_image"
   ]
  },
  {
   "cell_type": "code",
   "execution_count": null,
   "metadata": {},
   "outputs": [],
   "source": [
    "dataset = Dataset(transform)"
   ]
  },
  {
   "cell_type": "code",
   "execution_count": null,
   "metadata": {},
   "outputs": [],
   "source": [
    "for idx in range(100):\n",
    "    inp = dataset[idx]\n",
    "    assert np.alltrue(inp[1] == inp[0])"
   ]
  },
  {
   "cell_type": "code",
   "execution_count": null,
   "metadata": {},
   "outputs": [],
   "source": []
  },
  {
   "cell_type": "code",
   "execution_count": null,
   "metadata": {},
   "outputs": [],
   "source": []
  },
  {
   "cell_type": "code",
   "execution_count": null,
   "metadata": {},
   "outputs": [],
   "source": [
    "\n"
   ]
  }
 ],
 "metadata": {
  "kernelspec": {
   "display_name": "Python 3",
   "language": "python",
   "name": "python3"
  }
 },
 "nbformat": 4,
 "nbformat_minor": 4
}

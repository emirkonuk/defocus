{
 "cells": [
  {
   "cell_type": "code",
   "execution_count": null,
   "metadata": {},
   "outputs": [],
   "source": [
    "# default_exp architecture.common"
   ]
  },
  {
   "cell_type": "code",
   "execution_count": null,
   "metadata": {},
   "outputs": [],
   "source": [
    "#export\n",
    "import torch.nn as nn\n",
    "class ResBlock(nn.Module):\n",
    "    def __init__(self, n_feats, kernel_size):\n",
    "        super(ResBlock, self).__init__()\n",
    "\n",
    "        self.conv1 = nn.Conv2d(n_feats, n_feats, kernel_size, padding=(kernel_size // 2))\n",
    "        self.activation = nn.ReLU(inplace=True)\n",
    "        self.conv2 = nn.Conv2d(n_feats, n_feats, kernel_size, padding=(kernel_size // 2))\n",
    "        \n",
    "    def forward(self, input_):\n",
    "        residual = self.conv1(input_)\n",
    "        residual = self.activation(residual)\n",
    "        residual = self.conv2(residual)\n",
    "        output = input_ + residual\n",
    "\n",
    "        return output\n",
    "    \n",
    "class ResNet(nn.Module):\n",
    "    def __init__(self, in_channels, out_channels, n_feats=64, kernel_size=5, n_resblocks=19):\n",
    "        super(ResNet, self).__init__()        \n",
    "        \n",
    "        self.input_layer = nn.Conv2d(in_channels, n_feats, kernel_size, padding=(kernel_size // 2))\n",
    "        self.blocks = nn.ModuleList([])\n",
    "        for _ in range(n_resblocks):\n",
    "            self.blocks.append(ResBlock(n_feats, kernel_size))\n",
    "        self.output_layer = nn.Conv2d(n_feats, out_channels, kernel_size, padding=(kernel_size // 2))\n",
    "        \n",
    "    def forward(self, input_):\n",
    "        x = self.input_layer(input_)\n",
    "        for block in self.blocks:\n",
    "            x = block(x)\n",
    "        output = self.output_layer(x)\n",
    "        return output\n",
    "    \n",
    "\n",
    "class UpConv2D(nn.Module):\n",
    "    def __init__(self, in_channels=3, out_channels=3, kernel_size=5, ratio=2):\n",
    "        super(UpConv2D, self).__init__()\n",
    "        \n",
    "        self.conv = nn.Conv2d(in_channels, out_channels*(ratio**2), kernel_size, padding=(kernel_size // 2))\n",
    "        self.upscale = nn.PixelShuffle(ratio)\n",
    "        \n",
    "    def forward(self, input_):\n",
    "        x = self.conv(input_)\n",
    "        output = self.upscale(x)\n",
    "        return output"
   ]
  },
  {
   "cell_type": "code",
   "execution_count": null,
   "metadata": {},
   "outputs": [
    {
     "name": "stdout",
     "output_type": "stream",
     "text": [
      "Converted 01_model.ipynb.\n",
      "Converted 02_network_common.ipynb.\n",
      "Converted 03_network_MSResNet.ipynb.\n",
      "Converted 04_dataset_common.ipynb.\n",
      "Converted 05_dataset_MSResNet.ipynb.\n",
      "Converted 99_diffaugment.ipynb.\n",
      "Converted Untitled.ipynb.\n"
     ]
    }
   ],
   "source": [
    "from nbdev.export import *\n",
    "notebook2script()"
   ]
  },
  {
   "cell_type": "code",
   "execution_count": null,
   "metadata": {},
   "outputs": [],
   "source": []
  }
 ],
 "metadata": {
  "kernelspec": {
   "display_name": "Python [conda env:defocus]",
   "language": "python",
   "name": "conda-env-defocus-py"
  }
 },
 "nbformat": 4,
 "nbformat_minor": 4
}
